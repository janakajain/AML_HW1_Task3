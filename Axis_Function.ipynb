{
 "cells": [
  {
   "cell_type": "markdown",
   "metadata": {},
   "source": [
    "# Axis Function"
   ]
  },
  {
   "cell_type": "markdown",
   "metadata": {},
   "source": [
    "This function calculates the mean and standard deviation of a dataset along a specified axis."
   ]
  },
  {
   "cell_type": "code",
   "execution_count": 131,
   "metadata": {
    "collapsed": false
   },
   "outputs": [],
   "source": [
    "import numpy as np\n",
    "\n",
    "# Create a dataset with numbers and two axes\n",
    "\n",
    "arr = np.array([[1,2,3,4,5,6,7,8,9,10],[1,2,5,23,78,12,34,89,12,1]])"
   ]
  },
  {
   "cell_type": "code",
   "execution_count": 132,
   "metadata": {
    "collapsed": false
   },
   "outputs": [],
   "source": [
    "#print arr\n",
    "        "
   ]
  },
  {
   "cell_type": "code",
   "execution_count": 133,
   "metadata": {
    "collapsed": false
   },
   "outputs": [],
   "source": [
    "def calc_axis(arr,x = 0):\n",
    "\n",
    "    return np.mean(arr,axis = x),  np.std(arr,axis = x)\n"
   ]
  },
  {
   "cell_type": "code",
   "execution_count": 134,
   "metadata": {
    "collapsed": false
   },
   "outputs": [],
   "source": [
    "# # Function output for axis 0\n",
    "\n",
    "# m , sd = calc_axis(arr,0)\n",
    "\n",
    "# print \"The mean is : \" + str(m)\n",
    "# print \"The standard deviation is : \" + str(sd)"
   ]
  },
  {
   "cell_type": "code",
   "execution_count": 135,
   "metadata": {
    "collapsed": false
   },
   "outputs": [],
   "source": [
    "# # Function output for axis 1\n",
    "\n",
    "# m , sd = calc_axis(arr,1)\n",
    "\n",
    "# print \"The mean is : \" + str(m)\n",
    "# print \"The standard deviation is : \" + str(sd)"
   ]
  },
  {
   "cell_type": "code",
   "execution_count": 129,
   "metadata": {
    "collapsed": false
   },
   "outputs": [],
   "source": [
    "# # Function output for axis 'None'\n",
    "\n",
    "# m , sd = calc_axis(arr, x = None)\n",
    "\n",
    "# print \"The mean is : \" + str(m)\n",
    "# print \"The standard deviation is : \" + str(sd)"
   ]
  },
  {
   "cell_type": "code",
   "execution_count": 130,
   "metadata": {
    "collapsed": false
   },
   "outputs": [],
   "source": [
    "# # Function output for default axis (zero)\n",
    "\n",
    "# m , sd = calc_axis(arr)\n",
    "\n",
    "# print \"The mean is : \" + str(m)\n",
    "# print \"The standard deviation is : \" + str(sd)"
   ]
  }
 ],
 "metadata": {
  "anaconda-cloud": {},
  "kernelspec": {
   "display_name": "Python [conda root]",
   "language": "python",
   "name": "conda-root-py"
  },
  "language_info": {
   "codemirror_mode": {
    "name": "ipython",
    "version": 2
   },
   "file_extension": ".py",
   "mimetype": "text/x-python",
   "name": "python",
   "nbconvert_exporter": "python",
   "pygments_lexer": "ipython2",
   "version": "2.7.12"
  }
 },
 "nbformat": 4,
 "nbformat_minor": 1
}
